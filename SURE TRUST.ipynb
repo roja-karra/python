{
 "cells": [
  {
   "cell_type": "code",
   "execution_count": 4,
   "metadata": {},
   "outputs": [
    {
     "name": "stdout",
     "output_type": "stream",
     "text": [
      "calculator\n",
      "1.add\n",
      "2.subtraction\n",
      "3.multiplication\n",
      "4.division\n",
      "choice(1-4:)3\n",
      "enter A:10\n",
      "enter B:20\n",
      "product= 200\n"
     ]
    }
   ],
   "source": [
    "print(\"calculator\")\n",
    "print('1.add')\n",
    "print('2.subtraction')\n",
    "print('3.multiplication')\n",
    "print('4.division')\n",
    "choice=int(input('choice(1-4:)'))\n",
    "a=int(input('enter A:'))\n",
    "b=int(input('enter B:'))\n",
    "if choice==1:\n",
    "    print(\"sum=\",a+b)\n",
    "elif choice==2:\n",
    "    print(\"subtraction=\",a-b)\n",
    "elif choice==3:\n",
    "    print(\"product=\",a*b)\n",
    "elif choice==4:\n",
    "    print(\"division=\",a/b)\n",
    "else:\n",
    "    print(\"enter valid choice\")\n",
    "        "
   ]
  },
  {
   "cell_type": "code",
   "execution_count": 5,
   "metadata": {},
   "outputs": [
    {
     "name": "stdout",
     "output_type": "stream",
     "text": [
      "Enter a String1 - roja\n",
      "Enter a String2 - xyz123\n",
      "Please Check your userid or Password\n"
     ]
    }
   ],
   "source": [
    "string1 = input('Enter a String1 - ')\n",
    "string2 = input('Enter a String2 - ')\n",
    "\n",
    "\n",
    "if (string1 == 'xyz' and string2 == 'xyz123'):\n",
    "    print('Successfully Logged in!!')\n",
    "else:\n",
    "    print('Please Check your userid or Password')"
   ]
  },
  {
   "cell_type": "code",
   "execution_count": 3,
   "metadata": {},
   "outputs": [
    {
     "name": "stdout",
     "output_type": "stream",
     "text": [
      "Enter the Age - 40\n",
      "Enter Sex (M / F ) - M\n",
      "Enter a Number of Days - 90\n",
      "Total wages -  72000\n"
     ]
    }
   ],
   "source": [
    "age = int(input('Enter the Age - '))\n",
    "sex = input('Enter Sex (M / F ) - ')\n",
    "\n",
    "nd = int(input('Enter a Number of Days - '))\n",
    "\n",
    "if (age >= 18 and age <30 ) and (sex.upper() == 'M'):\n",
    "    amt = nd * 700\n",
    "    print('Total wages - ', amt)\n",
    "elif (age >= 18 and age <30 ) and (sex.upper() == 'F'):\n",
    "    amt = nd * 750\n",
    "    print('Total wages - ', amt)\n",
    "elif (age >= 30 and age <= 40 ) and (sex.upper() == 'M'):\n",
    "    amt = nd * 800\n",
    "    print('Total wages - ', amt)\n",
    "elif (age >= 30 and age <= 40 ) and (sex.upper() == 'F'):\n",
    "    amt = nd * 800\n",
    "    print('Total wages - ', amt)\n",
    "else:\n",
    "    print(\"enter apropriate age\")"
   ]
  },
  {
   "cell_type": "code",
   "execution_count": 2,
   "metadata": {},
   "outputs": [
    {
     "name": "stdout",
     "output_type": "stream",
     "text": [
      "enter:7\n",
      "enter:8\n",
      "enter:9\n",
      "8\n"
     ]
    }
   ],
   "source": [
    "a=int(input(\"enter:\"))\n",
    "b=int(input(\"enter:\"))\n",
    "c=int(input(\"enter:\"))\n",
    "if(a>=b and a>c):\n",
    "    if(b>c):\n",
    "        print(b)\n",
    "    else:\n",
    "        print(c)\n",
    "elif(b>c and b>a):\n",
    "    if(c>a):\n",
    "        print(c)\n",
    "    else:\n",
    "        print(a)\n",
    "elif(a>b):\n",
    "    print(a)\n",
    "else:\n",
    "    print(b)"
   ]
  },
  {
   "cell_type": "code",
   "execution_count": 3,
   "metadata": {},
   "outputs": [
    {
     "name": "stdout",
     "output_type": "stream",
     "text": [
      "enter:4\n",
      "enter:7\n",
      "enter:2\n",
      "4\n"
     ]
    }
   ],
   "source": [
    "a=int(input(\"enter:\"))\n",
    "b=int(input(\"enter:\"))\n",
    "c=int(input(\"enter:\"))\n",
    "if a>b and a<c or a>c and a<b:\n",
    "    print(a)\n",
    "elif b>a and b<c or b>c and b<a:\n",
    "    print(b)\n",
    "else:\n",
    "    print(c)"
   ]
  },
  {
   "cell_type": "code",
   "execution_count": 1,
   "metadata": {},
   "outputs": [],
   "source": [
    "#USD (U.S Dollars) (1 USD =71.83 INR)\n",
    "\n",
    "#YEN (Japanese YEN) (1 YEN= 0.66 INR\n",
    "\n",
    "#EURO (1 EURO=79.57 INR)\n",
    "\n",
    "#U.K. POUND (1 U.K POUND=93.11 INR)"
   ]
  },
  {
   "cell_type": "code",
   "execution_count": 3,
   "metadata": {},
   "outputs": [
    {
     "name": "stdout",
     "output_type": "stream",
     "text": [
      "enter no.of rupees:2\n",
      "enter USD/YEN/EURO/UK:UK\n",
      "amount: 186.22 INR\n"
     ]
    }
   ],
   "source": [
    "n=int(input(\"enter number:\"))\n",
    "country=input(\"enter USD/YEN/EURO/UK:\")\n",
    "if country==\"USD\":\n",
    "    print(\"amount:\",n*71.83,\"INR\")\n",
    "elif country==\"YEN\":\n",
    "    print(\"amount:\",n*0.66,\"INR\")\n",
    "elif country==\"EURO\":\n",
    "    print(\"amount:\",n*79.57,\"INR\")\n",
    "elif country==\"UK\":\n",
    "    print(\"amount:\",n*93.11,\"INR\")\n",
    "else:\n",
    "    print(\"enter valid\")"
   ]
  },
  {
   "cell_type": "code",
   "execution_count": 5,
   "metadata": {},
   "outputs": [],
   "source": [
    "# Accept the Following From the User and Calculate the Percentage of Class Attended:\n",
    "\n",
    "#a. Total Number of Working Days \n",
    "\n",
    "#b. Total Number of Days for Absent \n",
    "\n",
    "#After Calculating Percentage show that, if the Percentage is less than 75, \n",
    "#then  the Student will not be permitted for the Exams."
   ]
  },
  {
   "cell_type": "code",
   "execution_count": 7,
   "metadata": {},
   "outputs": [
    {
     "name": "stdout",
     "output_type": "stream",
     "text": [
      "enter no.of working days:20\n",
      "enter no.of absent days:2\n",
      "90.0\n",
      "permitted\n"
     ]
    }
   ],
   "source": [
    "wdays=int(input(\"enter no.of working days:\"))\n",
    "adays=int(input(\"enter no.of absent days:\"))\n",
    "pdays=wdays-adays\n",
    "percentage=((pdays/wdays)*100)\n",
    "print(percentage)\n",
    "if percentage<75:\n",
    "    print(\"not permitted for the exams\")\n",
    "else:\n",
    "    print(\"permitted\")"
   ]
  },
  {
   "cell_type": "code",
   "execution_count": 2,
   "metadata": {},
   "outputs": [],
   "source": [
    "#Nested IF else to Check Input Number is Zero, Positive Or Negative:"
   ]
  },
  {
   "cell_type": "code",
   "execution_count": 5,
   "metadata": {},
   "outputs": [
    {
     "name": "stdout",
     "output_type": "stream",
     "text": [
      "enter:9\n",
      "positive number\n"
     ]
    }
   ],
   "source": [
    "num=int(input(\"enter:\"))\n",
    "if num==0:\n",
    "    print(\"zero\")\n",
    "elif num<0:\n",
    "    print(\"negative number\")\n",
    "else:\n",
    "    print(\"positive number\")"
   ]
  },
  {
   "cell_type": "code",
   "execution_count": 1,
   "metadata": {},
   "outputs": [],
   "source": [
    "#list function:"
   ]
  },
  {
   "cell_type": "code",
   "execution_count": 3,
   "metadata": {},
   "outputs": [
    {
     "data": {
      "text/plain": [
       "[1, 2, 3]"
      ]
     },
     "execution_count": 3,
     "metadata": {},
     "output_type": "execute_result"
    }
   ],
   "source": [
    "list1=[1,2,3]\n",
    "list1"
   ]
  },
  {
   "cell_type": "code",
   "execution_count": 4,
   "metadata": {},
   "outputs": [
    {
     "data": {
      "text/plain": [
       "[1, 2, 3, 5]"
      ]
     },
     "execution_count": 4,
     "metadata": {},
     "output_type": "execute_result"
    }
   ],
   "source": [
    "list1.append(5)\n",
    "list1"
   ]
  },
  {
   "cell_type": "code",
   "execution_count": 5,
   "metadata": {},
   "outputs": [
    {
     "data": {
      "text/plain": [
       "[1, 2, 3]"
      ]
     },
     "execution_count": 5,
     "metadata": {},
     "output_type": "execute_result"
    }
   ],
   "source": [
    "list1.pop()\n",
    "list1"
   ]
  },
  {
   "cell_type": "code",
   "execution_count": 6,
   "metadata": {},
   "outputs": [
    {
     "data": {
      "text/plain": [
       "[3, 2, 1]"
      ]
     },
     "execution_count": 6,
     "metadata": {},
     "output_type": "execute_result"
    }
   ],
   "source": [
    "list1.reverse()\n",
    "list1"
   ]
  },
  {
   "cell_type": "code",
   "execution_count": 8,
   "metadata": {},
   "outputs": [
    {
     "data": {
      "text/plain": [
       "[1, 2, 3]"
      ]
     },
     "execution_count": 8,
     "metadata": {},
     "output_type": "execute_result"
    }
   ],
   "source": [
    "list1.sort()\n",
    "list1"
   ]
  },
  {
   "cell_type": "code",
   "execution_count": 10,
   "metadata": {},
   "outputs": [
    {
     "data": {
      "text/plain": [
       "[4, 9, 8, 2]"
      ]
     },
     "execution_count": 10,
     "metadata": {},
     "output_type": "execute_result"
    }
   ],
   "source": [
    "list2=[4,9,8,2]\n",
    "list2"
   ]
  },
  {
   "cell_type": "code",
   "execution_count": 12,
   "metadata": {},
   "outputs": [
    {
     "data": {
      "text/plain": [
       "False"
      ]
     },
     "execution_count": 12,
     "metadata": {},
     "output_type": "execute_result"
    }
   ],
   "source": [
    "list1==list2"
   ]
  },
  {
   "cell_type": "code",
   "execution_count": 14,
   "metadata": {},
   "outputs": [
    {
     "data": {
      "text/plain": [
       "1"
      ]
     },
     "execution_count": 14,
     "metadata": {},
     "output_type": "execute_result"
    }
   ],
   "source": [
    "list1.count(3)"
   ]
  },
  {
   "cell_type": "code",
   "execution_count": 19,
   "metadata": {},
   "outputs": [
    {
     "data": {
      "text/plain": [
       "[1, 2, 3]"
      ]
     },
     "execution_count": 19,
     "metadata": {},
     "output_type": "execute_result"
    }
   ],
   "source": [
    "list1.index(3)\n",
    "list1\n"
   ]
  },
  {
   "cell_type": "code",
   "execution_count": 20,
   "metadata": {},
   "outputs": [
    {
     "data": {
      "text/plain": [
       "[1, 2, 99, 3]"
      ]
     },
     "execution_count": 20,
     "metadata": {},
     "output_type": "execute_result"
    }
   ],
   "source": [
    "list1.insert(2,99)\n",
    "list1"
   ]
  },
  {
   "cell_type": "code",
   "execution_count": 23,
   "metadata": {},
   "outputs": [
    {
     "data": {
      "text/plain": [
       "[1, 2, '45', 3]"
      ]
     },
     "execution_count": 23,
     "metadata": {},
     "output_type": "execute_result"
    }
   ],
   "source": [
    "list1[2]='45'\n",
    "list1"
   ]
  },
  {
   "cell_type": "code",
   "execution_count": 30,
   "metadata": {},
   "outputs": [
    {
     "data": {
      "text/plain": [
       "[1, 2, '45', 3]"
      ]
     },
     "execution_count": 30,
     "metadata": {},
     "output_type": "execute_result"
    }
   ],
   "source": [
    "list1[-1:1:-1]\n",
    "list1"
   ]
  },
  {
   "cell_type": "code",
   "execution_count": 34,
   "metadata": {},
   "outputs": [
    {
     "data": {
      "text/plain": [
       "[1, 2, '45', 3]"
      ]
     },
     "execution_count": 34,
     "metadata": {},
     "output_type": "execute_result"
    }
   ],
   "source": [
    "list1[:-1]\n",
    "list1\n"
   ]
  },
  {
   "cell_type": "code",
   "execution_count": 36,
   "metadata": {},
   "outputs": [
    {
     "data": {
      "text/plain": [
       "[1, 2, '45', 3]"
      ]
     },
     "execution_count": 36,
     "metadata": {},
     "output_type": "execute_result"
    }
   ],
   "source": [
    "list1[1:]\n",
    "list1"
   ]
  },
  {
   "cell_type": "code",
   "execution_count": 37,
   "metadata": {},
   "outputs": [
    {
     "data": {
      "text/plain": [
       "'python'"
      ]
     },
     "execution_count": 37,
     "metadata": {},
     "output_type": "execute_result"
    }
   ],
   "source": [
    "list3='python'\n",
    "list3"
   ]
  },
  {
   "cell_type": "code",
   "execution_count": 39,
   "metadata": {},
   "outputs": [
    {
     "data": {
      "text/plain": [
       "['roja', 'lakshmi', 'karra']"
      ]
     },
     "execution_count": 39,
     "metadata": {},
     "output_type": "execute_result"
    }
   ],
   "source": [
    "list4=['roja','lakshmi','karra']\n",
    "list4"
   ]
  },
  {
   "cell_type": "code",
   "execution_count": 40,
   "metadata": {},
   "outputs": [
    {
     "data": {
      "text/plain": [
       "['roja', 'lakshmi', 'karra', 'r', 'o', 'j', 'a']"
      ]
     },
     "execution_count": 40,
     "metadata": {},
     "output_type": "execute_result"
    }
   ],
   "source": [
    "list4.extend('roja')\n",
    "list4"
   ]
  },
  {
   "cell_type": "code",
   "execution_count": 47,
   "metadata": {},
   "outputs": [
    {
     "data": {
      "text/plain": [
       "('roja', 'lakshmi')"
      ]
     },
     "execution_count": 47,
     "metadata": {},
     "output_type": "execute_result"
    }
   ],
   "source": [
    "string=('roja','lakshmi')\n",
    "string"
   ]
  },
  {
   "cell_type": "code",
   "execution_count": 1,
   "metadata": {},
   "outputs": [
    {
     "name": "stdout",
     "output_type": "stream",
     "text": [
      "0\n",
      "2\n",
      "4\n",
      "6\n",
      "8\n"
     ]
    }
   ],
   "source": [
    "x=0\n",
    "while(x<10):\n",
    "    print(x)\n",
    "    x=x+2"
   ]
  },
  {
   "cell_type": "code",
   "execution_count": 2,
   "metadata": {},
   "outputs": [
    {
     "name": "stdout",
     "output_type": "stream",
     "text": [
      "1 3 5 7 9 "
     ]
    }
   ],
   "source": [
    "x=1\n",
    "while(x<10):\n",
    "    print(x,end=' ')\n",
    "    x=x+2"
   ]
  },
  {
   "cell_type": "code",
   "execution_count": 5,
   "metadata": {},
   "outputs": [
    {
     "name": "stdout",
     "output_type": "stream",
     "text": [
      "1 \t\t\t\t 1\n",
      "2 \t\t\t\t 4\n",
      "3 \t\t\t\t 9\n",
      "4 \t\t\t\t 16\n",
      "5 \t\t\t\t 25\n",
      "6 \t\t\t\t 36\n",
      "7 \t\t\t\t 49\n",
      "8 \t\t\t\t 64\n",
      "9 \t\t\t\t 81\n",
      "10 \t\t\t\t 100\n"
     ]
    }
   ],
   "source": [
    "x=1\n",
    "while x<=10:\n",
    "    \n",
    "    print(x,'\\t\\t\\t\\t',x*x)\n",
    "    x=x+1\n",
    "    "
   ]
  },
  {
   "cell_type": "markdown",
   "metadata": {},
   "source": [
    "# Accept the Three Sides of the Triangle and Check whether it is Equilateral, Isosceles or Scalene Traingle : \n",
    "\n",
    "NOTE : \n",
    "    \n",
    "1. An Equilateral triangle is a triangle in which all the three sides are Equal.\n",
    "2. A scalene triangle is a triangle that has three unequal sides.\n",
    "3. An isosceles triangle is a triangle with(at least) two equal sides."
   ]
  },
  {
   "cell_type": "code",
   "execution_count": 11,
   "metadata": {},
   "outputs": [
    {
     "name": "stdout",
     "output_type": "stream",
     "text": [
      "enter:4\n",
      "enter:4\n",
      "enter:4\n",
      " Equilateral triangle\n"
     ]
    }
   ],
   "source": [
    "num1=int(input(\"enter:\"))\n",
    "num2=int(input(\"enter:\"))\n",
    "num3=int(input(\"enter:\"))\n",
    "if (num1==num2 and num2==num3):\n",
    "    print(\" Equilateral triangle\")\n",
    "elif (num1!=num2!=num3):\n",
    "    print(\" scalene triangle\")\n",
    "elif (num1==num2 or num2==num3 or num1==num3):\n",
    "    print(\"isosceles triangle\")\n",
    "else:\n",
    "    print(\"enter valid one\")"
   ]
  },
  {
   "cell_type": "code",
   "execution_count": 1,
   "metadata": {},
   "outputs": [
    {
     "name": "stdout",
     "output_type": "stream",
     "text": [
      "78\n"
     ]
    }
   ],
   "source": [
    "list1=[12,45,8,9,4]\n",
    "i=0\n",
    "sum=0\n",
    "while i<len(list1):\n",
    "    sum+=list1[i]\n",
    "    i+=1\n",
    "print(sum)"
   ]
  },
  {
   "cell_type": "code",
   "execution_count": 3,
   "metadata": {},
   "outputs": [
    {
     "name": "stdout",
     "output_type": "stream",
     "text": [
      "[]\n"
     ]
    }
   ],
   "source": [
    "list1=['apple','banana','grapes']\n",
    "while list1:\n",
    "    list1.pop()\n",
    "print(list1)"
   ]
  },
  {
   "cell_type": "code",
   "execution_count": 4,
   "metadata": {},
   "outputs": [],
   "source": [
    "#Printing all Letters except some using Python While Loop :"
   ]
  },
  {
   "cell_type": "code",
   "execution_count": null,
   "metadata": {},
   "outputs": [],
   "source": [
    "letter='welcome to sure trust'\n",
    "i=0\n",
    "while i<len(letter):\n",
    "    if i=='t':\n",
    "        i=i+1\n",
    "        continue\n",
    "print(letter[i],end=\" \")"
   ]
  },
  {
   "cell_type": "code",
   "execution_count": 1,
   "metadata": {},
   "outputs": [
    {
     "data": {
      "text/plain": [
       "90"
      ]
     },
     "execution_count": 1,
     "metadata": {},
     "output_type": "execute_result"
    }
   ],
   "source": [
    "a=90\n",
    "a"
   ]
  },
  {
   "cell_type": "code",
   "execution_count": 1,
   "metadata": {},
   "outputs": [],
   "source": [
    "#Write a Program to Get the Following Output :\n",
    "#1 -- 49\n",
    "\n",
    "#2 -- 48\n",
    "\n",
    "#3 -- 47\n",
    "\n",
    "#.. .. ..\n",
    "\n",
    "#48 -- 2\n",
    "\n",
    "#49 -- 1"
   ]
  },
  {
   "cell_type": "code",
   "execution_count": null,
   "metadata": {},
   "outputs": [],
   "source": [
    "#Write a Program to Display Sum of Odd Numbers and Even Numbers separately that fall Between two Numbers accepted\n",
    "#from the user (including both the Numbers) using while loop."
   ]
  },
  {
   "cell_type": "code",
   "execution_count": 3,
   "metadata": {},
   "outputs": [
    {
     "name": "stdout",
     "output_type": "stream",
     "text": [
      "1 --- 49\n",
      "2 --- 48\n",
      "3 --- 47\n",
      "4 --- 46\n",
      "5 --- 45\n",
      "6 --- 44\n",
      "7 --- 43\n",
      "8 --- 42\n",
      "9 --- 41\n",
      "10 --- 40\n",
      "11 --- 39\n",
      "12 --- 38\n",
      "13 --- 37\n",
      "14 --- 36\n",
      "15 --- 35\n",
      "16 --- 34\n",
      "17 --- 33\n",
      "18 --- 32\n",
      "19 --- 31\n",
      "20 --- 30\n",
      "21 --- 29\n",
      "22 --- 28\n",
      "23 --- 27\n",
      "24 --- 26\n",
      "25 --- 25\n",
      "26 --- 24\n",
      "27 --- 23\n",
      "28 --- 22\n",
      "29 --- 21\n",
      "30 --- 20\n",
      "31 --- 19\n",
      "32 --- 18\n",
      "33 --- 17\n",
      "34 --- 16\n",
      "35 --- 15\n",
      "36 --- 14\n",
      "37 --- 13\n",
      "38 --- 12\n",
      "39 --- 11\n",
      "40 --- 10\n",
      "41 --- 9\n",
      "42 --- 8\n",
      "43 --- 7\n",
      "44 --- 6\n",
      "45 --- 5\n",
      "46 --- 4\n",
      "47 --- 3\n",
      "48 --- 2\n",
      "49 --- 1\n"
     ]
    }
   ],
   "source": [
    "i=1\n",
    "k=49\n",
    "while i<=49:\n",
    "        print(i,'---',k)\n",
    "        i=i+1\n",
    "        k=k-1"
   ]
  },
  {
   "cell_type": "code",
   "execution_count": 3,
   "metadata": {},
   "outputs": [],
   "source": [
    "#Write a Program to Display Sum of Odd Numbers and Even Numbers separately that fall Between two Numbers accepted\n",
    "#from the user (including both the Numbers) using while loop."
   ]
  },
  {
   "cell_type": "markdown",
   "metadata": {},
   "source": []
  },
  {
   "cell_type": "code",
   "execution_count": 3,
   "metadata": {},
   "outputs": [
    {
     "name": "stdout",
     "output_type": "stream",
     "text": [
      "enter:1\n",
      "enter:5\n",
      "even sum 6\n",
      "odd sum 9\n"
     ]
    }
   ],
   "source": [
    "lb=int(input(\"enter:\"))\n",
    "ub=int(input(\"enter:\"))\n",
    "esum=0\n",
    "osum=0\n",
    "while lb <=ub:\n",
    "    if lb%2==0:\n",
    "        esum=esum+lb\n",
    "        lb=lb+1\n",
    "    else:\n",
    "        osum=osum+lb\n",
    "        lb=lb+1\n",
    "print(\"even sum\",esum)\n",
    "print(\"odd sum\",osum)"
   ]
  },
  {
   "cell_type": "code",
   "execution_count": 2,
   "metadata": {},
   "outputs": [
    {
     "name": "stdout",
     "output_type": "stream",
     "text": [
      "5\n",
      "20 "
     ]
    }
   ],
   "source": [
    "n=int(input())\n",
    "i=2\n",
    "while i<n:\n",
    "    \n",
    "    print(i,end=\" \")\n",
    "    i=i*10\n",
    "    "
   ]
  },
  {
   "cell_type": "code",
   "execution_count": 3,
   "metadata": {},
   "outputs": [],
   "source": [
    "#Assignment - 1:\n",
    "\n",
    "#wap to accept hours and rate per hour from user and compute gross pay based on following condition :\n",
    "\n",
    "#if the hours is less than or equal to 40 then standard rate\n",
    "#if the hours are more than 40 then apply 1.5 times of rate for additonal hours"
   ]
  },
  {
   "cell_type": "code",
   "execution_count": 4,
   "metadata": {},
   "outputs": [],
   "source": [
    "#Assignment - 2 :\n",
    "\n",
    "#wap to print grade of student\n",
    "\n",
    "#take marks of a student in 3 subjects as input and store them in a list.\n",
    "\n",
    "#calculate the percentage out of 300.\n",
    "\n",
    "#print grade based on following condition.\n",
    "\n",
    "#'>75' - A grade '>60' - B grade '40' - c grade\n",
    "\n",
    "#otherwise - D grade"
   ]
  },
  {
   "cell_type": "code",
   "execution_count": 5,
   "metadata": {},
   "outputs": [],
   "source": [
    "#Assignment - 3 :\n",
    "\n",
    "#write a program for generating a F'series:\n",
    "\n",
    "#output :\n",
    "\n",
    "#0 1 1 2 3 5 8 13 21 34\n",
    "\n",
    "#by using While Loop"
   ]
  },
  {
   "cell_type": "code",
   "execution_count": 7,
   "metadata": {},
   "outputs": [],
   "source": [
    "#wap to accept hours and rate per hour from user and compute gross pay based on following condition :\n",
    "\n",
    "#if the hours is less than or equal to 40 then standard rate\n",
    "#if the hours are more than 40 then apply 1.5 times of rate for additonal hours"
   ]
  },
  {
   "cell_type": "code",
   "execution_count": 10,
   "metadata": {},
   "outputs": [
    {
     "name": "stdout",
     "output_type": "stream",
     "text": [
      "enter hrs:50\n",
      "enter:100\n",
      "rate: 5500.0\n"
     ]
    }
   ],
   "source": [
    "hrs=int(input(\"enter hrs:\"))\n",
    "rph=int(input(\"enter:\"))\n",
    "if hrs<=40:\n",
    "    print(\"standard rate:\",hrs*rph)\n",
    "else:\n",
    "    print(\"rate:\",40*rph+(hrs-40)*rph*1.5)"
   ]
  },
  {
   "cell_type": "code",
   "execution_count": 11,
   "metadata": {},
   "outputs": [],
   "source": [
    "#wap to print grade of student\n",
    "\n",
    "#take marks of a student in 3 subjects as input and store them in a list.\n",
    "\n",
    "#calculate the percentage out of 300.\n",
    "\n",
    "#print grade based on following condition.\n",
    "\n",
    "#'>75' - A grade '>60' - B grade '40' - c grade\n",
    "\n",
    "#otherwise - D grade"
   ]
  },
  {
   "cell_type": "code",
   "execution_count": 2,
   "metadata": {},
   "outputs": [
    {
     "name": "stdout",
     "output_type": "stream",
     "text": [
      "enter marks:60\n",
      "enter marks:70\n",
      "enter marks:80\n",
      "D grade\n"
     ]
    }
   ],
   "source": [
    "li=[]\n",
    "sub1=int(input(\"enter marks:\"))\n",
    "sub2=int(input(\"enter marks:\"))\n",
    "sub3=int(input(\"enter marks:\"))\n",
    "i=0\n",
    "while i>=3:\n",
    "    li.append(i)\n",
    "per=(sum(li)/300)*100\n",
    "if per>75:\n",
    "    print(\"A grade\")\n",
    "elif per>60:\n",
    "    print(\"B grade\")\n",
    "elif per==40:\n",
    "    print(\"c grade\")\n",
    "else:\n",
    "    print(\"D grade\")"
   ]
  },
  {
   "cell_type": "code",
   "execution_count": 7,
   "metadata": {},
   "outputs": [],
   "source": [
    "#write a program for generating a F'series:\n",
    "\n",
    "#output :\n",
    "\n",
    "#0 1 1 2 3 5 8 13 21 34\n",
    "\n",
    "#by using While Loop"
   ]
  },
  {
   "cell_type": "code",
   "execution_count": 17,
   "metadata": {},
   "outputs": [
    {
     "name": "stdout",
     "output_type": "stream",
     "text": [
      "enter no.of terms:8\n",
      "0 1 1 2 3 5 8 13 21 34 "
     ]
    }
   ],
   "source": [
    "n=int(input(\"enter no.of terms:\"))\n",
    "f1=0\n",
    "f2=1\n",
    "i=0\n",
    "print(f1,end=' ')\n",
    "print(f2,end=' ')\n",
    "while i<n:\n",
    "    f3=f1+f2\n",
    "    i=i+1\n",
    "    print(f3,end=' ')\n",
    "    f1=f2\n",
    "    f2=f3"
   ]
  },
  {
   "cell_type": "code",
   "execution_count": 2,
   "metadata": {},
   "outputs": [],
   "source": [
    "#Create a dictionary and access it values using a condition on its key. The data is given below.\n",
    "#Let the condidtion on the key is that it should be a even number.\n",
    "#Key\t1\t2\t3\t4\t5\n",
    "#Name\tAman\tMohit\tGuari\tImran\tRoma\n",
    "#Marks\t24\t25\t26\t24\t27"
   ]
  },
  {
   "cell_type": "code",
   "execution_count": 3,
   "metadata": {},
   "outputs": [
    {
     "data": {
      "text/plain": [
       "{1: 'aman', 2: 'mohit', 3: 'gauri', 4: 'imran', 5: 'rama'}"
      ]
     },
     "execution_count": 3,
     "metadata": {},
     "output_type": "execute_result"
    }
   ],
   "source": [
    "dict1={1:'aman',2:'mohit',3:'gauri',4:'imran',5:'rama'}\n",
    "dict1\n"
   ]
  },
  {
   "cell_type": "markdown",
   "metadata": {},
   "source": [
    "Assignment - 1 :\n",
    "\n",
    "The days should be the keys, and the Temperatures (in Celsius) corresponding to the days should be values, Hence Create a Dictionary Comprehension by using list Comprehension.\n",
    "days = ['Sunday', 'Monday' ,'Tuesday' ,'Wednesday','Thursday' ,'Friday' ,'Saturday']\n",
    "temp_c =  [30.5, 32.1,  30.2, 29.9, 30.9, 29.7, 31.8]"
   ]
  },
  {
   "cell_type": "code",
   "execution_count": 8,
   "metadata": {},
   "outputs": [
    {
     "name": "stdout",
     "output_type": "stream",
     "text": [
      "{'Sunday': 30.5, 'Monday': 32.1, 'Tuesday': 30.2, 'Wednesday': 29.9, 'Thursday': 30.9, 'Friday': 29.7, 'Saturday': 31.8}\n"
     ]
    }
   ],
   "source": [
    "days = ['Sunday', 'Monday' ,'Tuesday' ,'Wednesday','Thursday' ,'Friday' ,'Saturday']\n",
    "temp_c =  [30.5, 32.1,  30.2, 29.9, 30.9, 29.7, 31.8]\n",
    "temp = {day:temp for (day,temp) in zip(days,temp_c)}\n",
    "\n",
    "print(temp)"
   ]
  },
  {
   "cell_type": "markdown",
   "metadata": {},
   "source": [
    "Assignment - 2:\n",
    "\n",
    "Customers\tAlex\tBob\tCarol\tDave\tFlow\tKatie\tNate\n",
    "part - 1 : Let's say we have a list of customers who visit our store, and we'd like to offer a random discount to each customer. We'd like the Discount value to be anywhere between  $1 and $100\n",
    "\n",
    "HINT : JUST IMPORT RANDOM library to fetch values.\n",
    "\n",
    "\n",
    "part - 2 : we'd now like to offer customers who were offered fewer than $30% discount, a 10% discount on their next Purchase.\n",
    "customer = ['Alex', 'Bob', 'Carol', 'Dave', 'Flow', 'Katie', 'Nate']"
   ]
  },
  {
   "cell_type": "code",
   "execution_count": 11,
   "metadata": {},
   "outputs": [
    {
     "name": "stdout",
     "output_type": "stream",
     "text": [
      "{'alex': 25, 'bob': 30, 'carol': 73, 'dave': 53, 'flow': 40, 'katie': 25, 'nate': 98}\n"
     ]
    }
   ],
   "source": [
    "import random\n",
    "customers=['alex','bob','carol','dave','flow','katie','nate']\n",
    "dis={customer:random.randint(1,100) for customer in customers}\n",
    "print(dis)"
   ]
  },
  {
   "cell_type": "code",
   "execution_count": 20,
   "metadata": {},
   "outputs": [
    {
     "name": "stdout",
     "output_type": "stream",
     "text": [
      "{'alex': 63, 'bob': 7, 'carol': 8, 'dave': 93, 'flow': 34, 'katie': 83, 'nate': 24}\n",
      "{'bob': 17, 'carol': 18, 'nate': 34}\n"
     ]
    }
   ],
   "source": [
    "import random\n",
    "customer_name=['alex','bob','carol','dave','flow','katie','nate']\n",
    "dis=random.sample(range(1,100),7) \n",
    "dis\n",
    "cust={a:b for(a,b)in zip(customer_name,dis)}\n",
    "print(cust)\n",
    "my_dict={a:b+10 for (a,b) in zip(customer_name,dis)if b<30}\n",
    "print(my_dict)"
   ]
  },
  {
   "cell_type": "markdown",
   "metadata": {},
   "source": [
    "Write a program to validate the data entered by its user and then perform conversion from kilogram to pounds. Write a program that asks the user for a weight and converts it from kilograms to pounds. Whenever the user enters a weight below 0, the program should tell them that their entry is invalid and then ask them again to enter a weight. At the end it should show a weight converted into pounds. do this repeatedly untill user enters 'STOP'\n",
    "\n",
    "[use of IF statement is restricted here]"
   ]
  },
  {
   "cell_type": "markdown",
   "metadata": {},
   "source": [
    "Sample Input/Output:\n",
    "Enter Weight or enter STOP: 10\n",
    "\n",
    "Weight in pounds: 22.046226218 lbs\n",
    "\n",
    "Enter Weight: 50\n",
    "\n",
    "Weight in pounds: 110.23113109 lbs\n",
    "\n",
    "Enter Weight: 45\n",
    "\n",
    "Weight in pounds: 99.208017981 lbs\n",
    "\n",
    "Enter Weight: 62\n",
    "\n",
    "Weight in pounds: 136.6866025516 lbs\n",
    "\n",
    "Enter Weight: STOP"
   ]
  },
  {
   "cell_type": "code",
   "execution_count": 1,
   "metadata": {},
   "outputs": [
    {
     "name": "stdout",
     "output_type": "stream",
     "text": [
      "enter weight or enter STOP:10\n",
      "weight in pounds: 22.046226218 Ibs\n",
      "enter weight:50\n",
      "weight in pounds: 110.23113109 Ibs\n",
      "enter weight:45\n",
      "weight in pounds: 99.208017981 Ibs\n",
      "enter weight:STOP\n"
     ]
    },
    {
     "ename": "ValueError",
     "evalue": "invalid literal for int() with base 10: 'STOP'",
     "output_type": "error",
     "traceback": [
      "\u001b[1;31m---------------------------------------------------------------------------\u001b[0m",
      "\u001b[1;31mValueError\u001b[0m                                Traceback (most recent call last)",
      "\u001b[1;32m<ipython-input-1-1b1b08817c55>\u001b[0m in \u001b[0;36m<module>\u001b[1;34m\u001b[0m\n\u001b[0;32m      3\u001b[0m \u001b[1;32mwhile\u001b[0m\u001b[1;33m(\u001b[0m\u001b[0mnum\u001b[0m\u001b[1;33m>\u001b[0m\u001b[1;36m0\u001b[0m\u001b[1;33m)\u001b[0m\u001b[1;33m:\u001b[0m\u001b[1;33m\u001b[0m\u001b[1;33m\u001b[0m\u001b[0m\n\u001b[0;32m      4\u001b[0m         \u001b[0mprint\u001b[0m\u001b[1;33m(\u001b[0m\u001b[1;34m\"weight in pounds:\"\u001b[0m\u001b[1;33m,\u001b[0m\u001b[0mfloat\u001b[0m\u001b[1;33m(\u001b[0m\u001b[0mnum\u001b[0m\u001b[1;33m*\u001b[0m\u001b[1;36m2.2046226218\u001b[0m\u001b[1;33m)\u001b[0m\u001b[1;33m,\u001b[0m\u001b[1;34m\"Ibs\"\u001b[0m\u001b[1;33m)\u001b[0m\u001b[1;33m\u001b[0m\u001b[1;33m\u001b[0m\u001b[0m\n\u001b[1;32m----> 5\u001b[1;33m         \u001b[0mnum\u001b[0m\u001b[1;33m=\u001b[0m\u001b[0mint\u001b[0m\u001b[1;33m(\u001b[0m\u001b[0minput\u001b[0m\u001b[1;33m(\u001b[0m\u001b[1;34m\"enter weight:\"\u001b[0m\u001b[1;33m)\u001b[0m\u001b[1;33m)\u001b[0m\u001b[1;33m\u001b[0m\u001b[1;33m\u001b[0m\u001b[0m\n\u001b[0m\u001b[0;32m      6\u001b[0m         \u001b[1;32mwhile\u001b[0m\u001b[1;33m(\u001b[0m\u001b[0mnum\u001b[0m\u001b[1;33m==\u001b[0m\u001b[0mn\u001b[0m\u001b[1;33m)\u001b[0m\u001b[1;33m:\u001b[0m\u001b[1;33m\u001b[0m\u001b[1;33m\u001b[0m\u001b[0m\n\u001b[0;32m      7\u001b[0m             \u001b[0mprint\u001b[0m\u001b[1;33m(\u001b[0m\u001b[1;34m\"Enter Weight: STOP\"\u001b[0m\u001b[1;33m)\u001b[0m\u001b[1;33m\u001b[0m\u001b[1;33m\u001b[0m\u001b[0m\n",
      "\u001b[1;31mValueError\u001b[0m: invalid literal for int() with base 10: 'STOP'"
     ]
    }
   ],
   "source": [
    "num=int(input(\"enter weight or enter STOP:\"))\n",
    "n='STOP'\n",
    "while(num>0):\n",
    "        print(\"weight in pounds:\",float(num*2.2046226218),\"lbs\")\n",
    "        num=int(input(\"enter weight:\"))\n",
    "        while(num==n):\n",
    "            print(\"Enter Weight: STOP\")"
   ]
  },
  {
   "cell_type": "markdown",
   "metadata": {},
   "source": [
    "if the number is 231 and the output should be two three one:"
   ]
  },
  {
   "cell_type": "code",
   "execution_count": 4,
   "metadata": {},
   "outputs": [
    {
     "name": "stdout",
     "output_type": "stream",
     "text": [
      "enter:123\n"
     ]
    },
    {
     "ename": "TypeError",
     "evalue": "object of type 'int' has no len()",
     "output_type": "error",
     "traceback": [
      "\u001b[1;31m---------------------------------------------------------------------------\u001b[0m",
      "\u001b[1;31mTypeError\u001b[0m                                 Traceback (most recent call last)",
      "\u001b[1;32m<ipython-input-4-6d40e69f368c>\u001b[0m in \u001b[0;36m<module>\u001b[1;34m\u001b[0m\n\u001b[0;32m     27\u001b[0m         \u001b[0mi\u001b[0m \u001b[1;33m+=\u001b[0m \u001b[1;36m1\u001b[0m\u001b[1;33m\u001b[0m\u001b[1;33m\u001b[0m\u001b[0m\n\u001b[0;32m     28\u001b[0m \u001b[0mnum\u001b[0m\u001b[1;33m=\u001b[0m\u001b[0mint\u001b[0m\u001b[1;33m(\u001b[0m\u001b[0minput\u001b[0m\u001b[1;33m(\u001b[0m\u001b[1;34m\"enter:\"\u001b[0m\u001b[1;33m)\u001b[0m\u001b[1;33m)\u001b[0m\u001b[1;33m\u001b[0m\u001b[1;33m\u001b[0m\u001b[0m\n\u001b[1;32m---> 29\u001b[1;33m \u001b[0mprintword\u001b[0m\u001b[1;33m(\u001b[0m\u001b[0mnum\u001b[0m\u001b[1;33m)\u001b[0m\u001b[1;33m\u001b[0m\u001b[1;33m\u001b[0m\u001b[0m\n\u001b[0m\u001b[0;32m     30\u001b[0m \u001b[1;33m\u001b[0m\u001b[0m\n\u001b[0;32m     31\u001b[0m \u001b[1;33m\u001b[0m\u001b[0m\n",
      "\u001b[1;32m<ipython-input-4-6d40e69f368c>\u001b[0m in \u001b[0;36mprintword\u001b[1;34m(num)\u001b[0m\n\u001b[0;32m     22\u001b[0m \u001b[1;32mdef\u001b[0m \u001b[0mprintword\u001b[0m\u001b[1;33m(\u001b[0m\u001b[0mnum\u001b[0m\u001b[1;33m)\u001b[0m\u001b[1;33m:\u001b[0m\u001b[1;33m\u001b[0m\u001b[1;33m\u001b[0m\u001b[0m\n\u001b[0;32m     23\u001b[0m     \u001b[0mi\u001b[0m \u001b[1;33m=\u001b[0m \u001b[1;36m0\u001b[0m\u001b[1;33m\u001b[0m\u001b[1;33m\u001b[0m\u001b[0m\n\u001b[1;32m---> 24\u001b[1;33m     \u001b[0mlength\u001b[0m \u001b[1;33m=\u001b[0m \u001b[0mlen\u001b[0m\u001b[1;33m(\u001b[0m\u001b[0mnum\u001b[0m\u001b[1;33m)\u001b[0m\u001b[1;33m\u001b[0m\u001b[1;33m\u001b[0m\u001b[0m\n\u001b[0m\u001b[0;32m     25\u001b[0m     \u001b[1;32mwhile\u001b[0m \u001b[0mi\u001b[0m \u001b[1;33m<\u001b[0m \u001b[0mlength\u001b[0m\u001b[1;33m:\u001b[0m\u001b[1;33m\u001b[0m\u001b[1;33m\u001b[0m\u001b[0m\n\u001b[0;32m     26\u001b[0m         \u001b[0mdigitname\u001b[0m\u001b[1;33m(\u001b[0m\u001b[0mnum\u001b[0m\u001b[1;33m[\u001b[0m\u001b[0mi\u001b[0m\u001b[1;33m]\u001b[0m\u001b[1;33m)\u001b[0m\u001b[1;33m\u001b[0m\u001b[1;33m\u001b[0m\u001b[0m\n",
      "\u001b[1;31mTypeError\u001b[0m: object of type 'int' has no len()"
     ]
    }
   ],
   "source": [
    "def digitname(num):\n",
    "    if num==0:\n",
    "        print(\"zero\")\n",
    "    elif num==1:\n",
    "        print(\"one\")\n",
    "    elif num==2:\n",
    "        print(\"two\")\n",
    "    elif num==3:\n",
    "        print(\"three\")\n",
    "    elif num==4:\n",
    "        print(\"four\")\n",
    "    elif num==5:\n",
    "        print(\"five\")\n",
    "    elif num==6:\n",
    "        print(\"six\")\n",
    "    elif num==7:\n",
    "        print(\"seven\")\n",
    "    elif num==8:\n",
    "        print(\"eight\")\n",
    "    elif num==9:\n",
    "        print(\"nine\")\n",
    "def printword(num):\n",
    "    i = 0\n",
    "    length = len(num)\n",
    "    while i < length:\n",
    "        digitname(num[i])\n",
    "        i += 1\n",
    "num=int(input(\"enter:\"))\n",
    "printword(num)"
   ]
  },
  {
   "cell_type": "code",
   "execution_count": 13,
   "metadata": {},
   "outputs": [
    {
     "name": "stdout",
     "output_type": "stream",
     "text": [
      "enter:3578\n",
      "three five seven eight "
     ]
    }
   ],
   "source": [
    "n=input(\"enter:\")\n",
    "dictionary={'0':'zero','1':'one','2':'two','3':'three','4':'four','5':'five','6':'six','7':'seven','8':'eight','9':'nine'}\n",
    "for i in n:\n",
    "    print(dictionary[i],end=' ')"
   ]
  },
  {
   "cell_type": "markdown",
   "metadata": {},
   "source": [
    "ASK - 1:\n",
    "\n",
    "You are making a phonebook. The contacts are stored in a dictionary, where the key is the name and the value is a list, representing the number and the email of the contact. You need to implement search: take the name of the contact as input and output the email. If the contact is not found, output \"Not found\"."
   ]
  },
  {
   "cell_type": "code",
   "execution_count": 2,
   "metadata": {},
   "outputs": [
    {
     "name": "stdout",
     "output_type": "stream",
     "text": [
      "enter the name:poojitha\n",
      "Not found\n"
     ]
    }
   ],
   "source": [
    "dict1={'roja':['7661864339','roja@gmail.com'],'sunitha':['889765432','sunitha@gmail.com']}\n",
    "name=input(\"enter the name:\")\n",
    "if name in dict1:\n",
    "    print(dict1[name][1])\n",
    "else:\n",
    "    print(\"Not found\")"
   ]
  },
  {
   "cell_type": "markdown",
   "metadata": {},
   "source": [
    "Write a program to select stores located in Hyderabad\n",
    "Create a column 'Rank_sales' which contains the rank of each store based on sales of the product in ascending order\n",
    "Write a program to select all columns, except the 'Location' from the given dataframe"
   ]
  },
  {
   "cell_type": "markdown",
   "metadata": {},
   "source": [
    "<table>\n",
    "<tr>\n",
    "<th>Store</th>\n",
    "<th>Location</th>\n",
    "<th>Sales</th>\n",
    "</tr>\n",
    "<tr>\n",
    "<td>A</td>\n",
    "<td>Mumbai</td>\n",
    "<td>40000</td>\n",
    "</tr>\n",
    "<tr>\n",
    "<td>B</td>\n",
    "<td>Pune</td>\n",
    "<td>45000</td>\n",
    "</tr>\n",
    "<tr>\n",
    "<td>A</td>\n",
    "<td>Hyderabad</td>\n",
    "<td>50000</td>\n",
    "</tr>\n",
    "<tr>\n",
    "<td>C</td>\n",
    "<td>Mumbai</td>\n",
    "<td>90000</td>\n",
    "</tr>\n",
    "<tr>\n",
    "<td>D</td>\n",
    "<td>Pune</td>\n",
    "<td>89000</td>\n",
    "</tr>\n",
    "<tr>\n",
    "<td>A</td>\n",
    "<td>Delhi</td>\n",
    "<td>87000</td>\n",
    "</tr>\n",
    "<tr>\n",
    "<td>D</td>\n",
    "<td>Hyderabad</td>\n",
    "<td>85000</td>\n",
    "</tr>\n",
    "<tr>\n",
    "<td>A</td>\n",
    "<td>Pune</td>\n",
    "<td>78000</td>\n",
    "</tr>\n",
    "<tr>\n",
    "<td>C"
   ]
  },
  {
   "cell_type": "code",
   "execution_count": 26,
   "metadata": {},
   "outputs": [
    {
     "data": {
      "text/html": [
       "<div>\n",
       "<style scoped>\n",
       "    .dataframe tbody tr th:only-of-type {\n",
       "        vertical-align: middle;\n",
       "    }\n",
       "\n",
       "    .dataframe tbody tr th {\n",
       "        vertical-align: top;\n",
       "    }\n",
       "\n",
       "    .dataframe thead th {\n",
       "        text-align: right;\n",
       "    }\n",
       "</style>\n",
       "<table border=\"1\" class=\"dataframe\">\n",
       "  <thead>\n",
       "    <tr style=\"text-align: right;\">\n",
       "      <th></th>\n",
       "      <th>store</th>\n",
       "      <th>Location</th>\n",
       "      <th>sales</th>\n",
       "    </tr>\n",
       "  </thead>\n",
       "  <tbody>\n",
       "    <tr>\n",
       "      <td>0</td>\n",
       "      <td>A</td>\n",
       "      <td>Mumbai</td>\n",
       "      <td>40000</td>\n",
       "    </tr>\n",
       "    <tr>\n",
       "      <td>1</td>\n",
       "      <td>B</td>\n",
       "      <td>pune</td>\n",
       "      <td>45000</td>\n",
       "    </tr>\n",
       "    <tr>\n",
       "      <td>2</td>\n",
       "      <td>C</td>\n",
       "      <td>hyderabad</td>\n",
       "      <td>50000</td>\n",
       "    </tr>\n",
       "    <tr>\n",
       "      <td>3</td>\n",
       "      <td>D</td>\n",
       "      <td>mumbai</td>\n",
       "      <td>90000</td>\n",
       "    </tr>\n",
       "    <tr>\n",
       "      <td>4</td>\n",
       "      <td>A</td>\n",
       "      <td>pune</td>\n",
       "      <td>89000</td>\n",
       "    </tr>\n",
       "    <tr>\n",
       "      <td>5</td>\n",
       "      <td>D</td>\n",
       "      <td>delhi</td>\n",
       "      <td>87000</td>\n",
       "    </tr>\n",
       "    <tr>\n",
       "      <td>6</td>\n",
       "      <td>A</td>\n",
       "      <td>hyderabad</td>\n",
       "      <td>85000</td>\n",
       "    </tr>\n",
       "    <tr>\n",
       "      <td>7</td>\n",
       "      <td>C</td>\n",
       "      <td>pune</td>\n",
       "      <td>78000</td>\n",
       "    </tr>\n",
       "  </tbody>\n",
       "</table>\n",
       "</div>"
      ],
      "text/plain": [
       "  store   Location  sales\n",
       "0     A     Mumbai  40000\n",
       "1     B       pune  45000\n",
       "2     C  hyderabad  50000\n",
       "3     D     mumbai  90000\n",
       "4     A       pune  89000\n",
       "5     D      delhi  87000\n",
       "6     A  hyderabad  85000\n",
       "7     C       pune  78000"
      ]
     },
     "execution_count": 26,
     "metadata": {},
     "output_type": "execute_result"
    }
   ],
   "source": [
    "\n",
    "import pandas as pd\n",
    "data = {'store':['A','B','C','D','A','D','A','C'],\n",
    "       'Location':['Mumbai','pune','hyderabad','mumbai','pune','delhi','hyderabad','pune'],\n",
    "       'sales':[40000,45000,50000,90000,89000,87000,85000,78000]}\n",
    "df= pd.DataFrame(data)\n",
    "df"
   ]
  },
  {
   "cell_type": "code",
   "execution_count": 28,
   "metadata": {},
   "outputs": [
    {
     "data": {
      "text/html": [
       "<div>\n",
       "<style scoped>\n",
       "    .dataframe tbody tr th:only-of-type {\n",
       "        vertical-align: middle;\n",
       "    }\n",
       "\n",
       "    .dataframe tbody tr th {\n",
       "        vertical-align: top;\n",
       "    }\n",
       "\n",
       "    .dataframe thead th {\n",
       "        text-align: right;\n",
       "    }\n",
       "</style>\n",
       "<table border=\"1\" class=\"dataframe\">\n",
       "  <thead>\n",
       "    <tr style=\"text-align: right;\">\n",
       "      <th></th>\n",
       "      <th>store</th>\n",
       "      <th>Location</th>\n",
       "      <th>sales</th>\n",
       "    </tr>\n",
       "  </thead>\n",
       "  <tbody>\n",
       "    <tr>\n",
       "      <td>2</td>\n",
       "      <td>C</td>\n",
       "      <td>hyderabad</td>\n",
       "      <td>50000</td>\n",
       "    </tr>\n",
       "    <tr>\n",
       "      <td>6</td>\n",
       "      <td>A</td>\n",
       "      <td>hyderabad</td>\n",
       "      <td>85000</td>\n",
       "    </tr>\n",
       "  </tbody>\n",
       "</table>\n",
       "</div>"
      ],
      "text/plain": [
       "  store   Location  sales\n",
       "2     C  hyderabad  50000\n",
       "6     A  hyderabad  85000"
      ]
     },
     "execution_count": 28,
     "metadata": {},
     "output_type": "execute_result"
    }
   ],
   "source": [
    "df[df.Location==\"hyderabad\"]"
   ]
  },
  {
   "cell_type": "code",
   "execution_count": 29,
   "metadata": {},
   "outputs": [
    {
     "data": {
      "text/html": [
       "<div>\n",
       "<style scoped>\n",
       "    .dataframe tbody tr th:only-of-type {\n",
       "        vertical-align: middle;\n",
       "    }\n",
       "\n",
       "    .dataframe tbody tr th {\n",
       "        vertical-align: top;\n",
       "    }\n",
       "\n",
       "    .dataframe thead th {\n",
       "        text-align: right;\n",
       "    }\n",
       "</style>\n",
       "<table border=\"1\" class=\"dataframe\">\n",
       "  <thead>\n",
       "    <tr style=\"text-align: right;\">\n",
       "      <th></th>\n",
       "      <th>store</th>\n",
       "      <th>Location</th>\n",
       "      <th>sales</th>\n",
       "    </tr>\n",
       "  </thead>\n",
       "  <tbody>\n",
       "    <tr>\n",
       "      <td>0</td>\n",
       "      <td>2.0</td>\n",
       "      <td>1.0</td>\n",
       "      <td>1.0</td>\n",
       "    </tr>\n",
       "    <tr>\n",
       "      <td>1</td>\n",
       "      <td>4.0</td>\n",
       "      <td>7.0</td>\n",
       "      <td>2.0</td>\n",
       "    </tr>\n",
       "    <tr>\n",
       "      <td>2</td>\n",
       "      <td>5.5</td>\n",
       "      <td>3.5</td>\n",
       "      <td>3.0</td>\n",
       "    </tr>\n",
       "    <tr>\n",
       "      <td>3</td>\n",
       "      <td>7.5</td>\n",
       "      <td>5.0</td>\n",
       "      <td>8.0</td>\n",
       "    </tr>\n",
       "    <tr>\n",
       "      <td>4</td>\n",
       "      <td>2.0</td>\n",
       "      <td>7.0</td>\n",
       "      <td>7.0</td>\n",
       "    </tr>\n",
       "    <tr>\n",
       "      <td>5</td>\n",
       "      <td>7.5</td>\n",
       "      <td>2.0</td>\n",
       "      <td>6.0</td>\n",
       "    </tr>\n",
       "    <tr>\n",
       "      <td>6</td>\n",
       "      <td>2.0</td>\n",
       "      <td>3.5</td>\n",
       "      <td>5.0</td>\n",
       "    </tr>\n",
       "    <tr>\n",
       "      <td>7</td>\n",
       "      <td>5.5</td>\n",
       "      <td>7.0</td>\n",
       "      <td>4.0</td>\n",
       "    </tr>\n",
       "  </tbody>\n",
       "</table>\n",
       "</div>"
      ],
      "text/plain": [
       "   store  Location  sales\n",
       "0    2.0       1.0    1.0\n",
       "1    4.0       7.0    2.0\n",
       "2    5.5       3.5    3.0\n",
       "3    7.5       5.0    8.0\n",
       "4    2.0       7.0    7.0\n",
       "5    7.5       2.0    6.0\n",
       "6    2.0       3.5    5.0\n",
       "7    5.5       7.0    4.0"
      ]
     },
     "execution_count": 29,
     "metadata": {},
     "output_type": "execute_result"
    }
   ],
   "source": [
    "df.rank()"
   ]
  },
  {
   "cell_type": "code",
   "execution_count": 1,
   "metadata": {},
   "outputs": [
    {
     "data": {
      "text/html": [
       "<div>\n",
       "<style scoped>\n",
       "    .dataframe tbody tr th:only-of-type {\n",
       "        vertical-align: middle;\n",
       "    }\n",
       "\n",
       "    .dataframe tbody tr th {\n",
       "        vertical-align: top;\n",
       "    }\n",
       "\n",
       "    .dataframe thead th {\n",
       "        text-align: right;\n",
       "    }\n",
       "</style>\n",
       "<table border=\"1\" class=\"dataframe\">\n",
       "  <thead>\n",
       "    <tr style=\"text-align: right;\">\n",
       "      <th></th>\n",
       "      <th>store</th>\n",
       "      <th>Location</th>\n",
       "      <th>sales</th>\n",
       "    </tr>\n",
       "  </thead>\n",
       "  <tbody>\n",
       "    <tr>\n",
       "      <td>0</td>\n",
       "      <td>A</td>\n",
       "      <td>Mumbai</td>\n",
       "      <td>40000</td>\n",
       "    </tr>\n",
       "    <tr>\n",
       "      <td>1</td>\n",
       "      <td>B</td>\n",
       "      <td>pune</td>\n",
       "      <td>45000</td>\n",
       "    </tr>\n",
       "    <tr>\n",
       "      <td>2</td>\n",
       "      <td>C</td>\n",
       "      <td>hyderabad</td>\n",
       "      <td>50000</td>\n",
       "    </tr>\n",
       "    <tr>\n",
       "      <td>3</td>\n",
       "      <td>D</td>\n",
       "      <td>mumbai</td>\n",
       "      <td>90000</td>\n",
       "    </tr>\n",
       "    <tr>\n",
       "      <td>4</td>\n",
       "      <td>A</td>\n",
       "      <td>pune</td>\n",
       "      <td>89000</td>\n",
       "    </tr>\n",
       "    <tr>\n",
       "      <td>5</td>\n",
       "      <td>D</td>\n",
       "      <td>delhi</td>\n",
       "      <td>87000</td>\n",
       "    </tr>\n",
       "    <tr>\n",
       "      <td>6</td>\n",
       "      <td>A</td>\n",
       "      <td>hyderabad</td>\n",
       "      <td>85000</td>\n",
       "    </tr>\n",
       "    <tr>\n",
       "      <td>7</td>\n",
       "      <td>C</td>\n",
       "      <td>pune</td>\n",
       "      <td>78000</td>\n",
       "    </tr>\n",
       "  </tbody>\n",
       "</table>\n",
       "</div>"
      ],
      "text/plain": [
       "  store   Location  sales\n",
       "0     A     Mumbai  40000\n",
       "1     B       pune  45000\n",
       "2     C  hyderabad  50000\n",
       "3     D     mumbai  90000\n",
       "4     A       pune  89000\n",
       "5     D      delhi  87000\n",
       "6     A  hyderabad  85000\n",
       "7     C       pune  78000"
      ]
     },
     "execution_count": 1,
     "metadata": {},
     "output_type": "execute_result"
    }
   ],
   "source": [
    "import pandas as pd\n",
    "data = {'store':['A','B','C','D','A','D','A','C'],\n",
    "       'Location':['Mumbai','pune','hyderabad','mumbai','pune','delhi','hyderabad','pune'],\n",
    "       'sales':[40000,45000,50000,90000,89000,87000,85000,78000]}\n",
    "df= pd.DataFrame(data)\n",
    "df.sort_values('store')\n",
    "df"
   ]
  },
  {
   "cell_type": "code",
   "execution_count": 24,
   "metadata": {},
   "outputs": [
    {
     "data": {
      "text/html": [
       "<div>\n",
       "<style scoped>\n",
       "    .dataframe tbody tr th:only-of-type {\n",
       "        vertical-align: middle;\n",
       "    }\n",
       "\n",
       "    .dataframe tbody tr th {\n",
       "        vertical-align: top;\n",
       "    }\n",
       "\n",
       "    .dataframe thead th {\n",
       "        text-align: right;\n",
       "    }\n",
       "</style>\n",
       "<table border=\"1\" class=\"dataframe\">\n",
       "  <thead>\n",
       "    <tr style=\"text-align: right;\">\n",
       "      <th></th>\n",
       "      <th>store</th>\n",
       "      <th>Location</th>\n",
       "      <th>sales</th>\n",
       "    </tr>\n",
       "  </thead>\n",
       "  <tbody>\n",
       "    <tr>\n",
       "      <td>0</td>\n",
       "      <td>A</td>\n",
       "      <td>Mumbai</td>\n",
       "      <td>40000</td>\n",
       "    </tr>\n",
       "    <tr>\n",
       "      <td>1</td>\n",
       "      <td>B</td>\n",
       "      <td>pune</td>\n",
       "      <td>45000</td>\n",
       "    </tr>\n",
       "    <tr>\n",
       "      <td>2</td>\n",
       "      <td>C</td>\n",
       "      <td>hyderabad</td>\n",
       "      <td>50000</td>\n",
       "    </tr>\n",
       "    <tr>\n",
       "      <td>3</td>\n",
       "      <td>D</td>\n",
       "      <td>mumbai</td>\n",
       "      <td>90000</td>\n",
       "    </tr>\n",
       "    <tr>\n",
       "      <td>4</td>\n",
       "      <td>A</td>\n",
       "      <td>pune</td>\n",
       "      <td>89000</td>\n",
       "    </tr>\n",
       "    <tr>\n",
       "      <td>5</td>\n",
       "      <td>D</td>\n",
       "      <td>delhi</td>\n",
       "      <td>87000</td>\n",
       "    </tr>\n",
       "    <tr>\n",
       "      <td>6</td>\n",
       "      <td>A</td>\n",
       "      <td>hyderabad</td>\n",
       "      <td>85000</td>\n",
       "    </tr>\n",
       "    <tr>\n",
       "      <td>7</td>\n",
       "      <td>C</td>\n",
       "      <td>pune</td>\n",
       "      <td>78000</td>\n",
       "    </tr>\n",
       "  </tbody>\n",
       "</table>\n",
       "</div>"
      ],
      "text/plain": [
       "  store   Location  sales\n",
       "0     A     Mumbai  40000\n",
       "1     B       pune  45000\n",
       "2     C  hyderabad  50000\n",
       "3     D     mumbai  90000\n",
       "4     A       pune  89000\n",
       "5     D      delhi  87000\n",
       "6     A  hyderabad  85000\n",
       "7     C       pune  78000"
      ]
     },
     "execution_count": 24,
     "metadata": {},
     "output_type": "execute_result"
    }
   ],
   "source": [
    "import pandas as pd\n",
    "data = {'store':['A','B','C','D','A','D','A','C'],\n",
    "       'Location':['Mumbai','pune','hyderabad','mumbai','pune','delhi','hyderabad','pune'],\n",
    "       'sales':[40000,45000,50000,90000,89000,87000,85000,78000]}\n",
    "df= pd.DataFrame(data)\n",
    "df.sort_values(by='sales',ascending=False)\n",
    "df"
   ]
  },
  {
   "cell_type": "code",
   "execution_count": 25,
   "metadata": {},
   "outputs": [
    {
     "data": {
      "text/html": [
       "<div>\n",
       "<style scoped>\n",
       "    .dataframe tbody tr th:only-of-type {\n",
       "        vertical-align: middle;\n",
       "    }\n",
       "\n",
       "    .dataframe tbody tr th {\n",
       "        vertical-align: top;\n",
       "    }\n",
       "\n",
       "    .dataframe thead th {\n",
       "        text-align: right;\n",
       "    }\n",
       "</style>\n",
       "<table border=\"1\" class=\"dataframe\">\n",
       "  <thead>\n",
       "    <tr style=\"text-align: right;\">\n",
       "      <th></th>\n",
       "      <th>store</th>\n",
       "      <th>Location</th>\n",
       "      <th>sales</th>\n",
       "      <th>rank_sales</th>\n",
       "    </tr>\n",
       "  </thead>\n",
       "  <tbody>\n",
       "    <tr>\n",
       "      <td>0</td>\n",
       "      <td>A</td>\n",
       "      <td>Mumbai</td>\n",
       "      <td>40000</td>\n",
       "      <td>1.0</td>\n",
       "    </tr>\n",
       "    <tr>\n",
       "      <td>1</td>\n",
       "      <td>B</td>\n",
       "      <td>pune</td>\n",
       "      <td>45000</td>\n",
       "      <td>2.0</td>\n",
       "    </tr>\n",
       "    <tr>\n",
       "      <td>2</td>\n",
       "      <td>C</td>\n",
       "      <td>hyderabad</td>\n",
       "      <td>50000</td>\n",
       "      <td>3.0</td>\n",
       "    </tr>\n",
       "    <tr>\n",
       "      <td>3</td>\n",
       "      <td>D</td>\n",
       "      <td>mumbai</td>\n",
       "      <td>90000</td>\n",
       "      <td>8.0</td>\n",
       "    </tr>\n",
       "    <tr>\n",
       "      <td>4</td>\n",
       "      <td>A</td>\n",
       "      <td>pune</td>\n",
       "      <td>89000</td>\n",
       "      <td>7.0</td>\n",
       "    </tr>\n",
       "    <tr>\n",
       "      <td>5</td>\n",
       "      <td>D</td>\n",
       "      <td>delhi</td>\n",
       "      <td>87000</td>\n",
       "      <td>6.0</td>\n",
       "    </tr>\n",
       "    <tr>\n",
       "      <td>6</td>\n",
       "      <td>A</td>\n",
       "      <td>hyderabad</td>\n",
       "      <td>85000</td>\n",
       "      <td>5.0</td>\n",
       "    </tr>\n",
       "    <tr>\n",
       "      <td>7</td>\n",
       "      <td>C</td>\n",
       "      <td>pune</td>\n",
       "      <td>78000</td>\n",
       "      <td>4.0</td>\n",
       "    </tr>\n",
       "  </tbody>\n",
       "</table>\n",
       "</div>"
      ],
      "text/plain": [
       "  store   Location  sales  rank_sales\n",
       "0     A     Mumbai  40000         1.0\n",
       "1     B       pune  45000         2.0\n",
       "2     C  hyderabad  50000         3.0\n",
       "3     D     mumbai  90000         8.0\n",
       "4     A       pune  89000         7.0\n",
       "5     D      delhi  87000         6.0\n",
       "6     A  hyderabad  85000         5.0\n",
       "7     C       pune  78000         4.0"
      ]
     },
     "execution_count": 25,
     "metadata": {},
     "output_type": "execute_result"
    }
   ],
   "source": [
    "df['rank_sales']=df['sales'].rank()\n",
    "df"
   ]
  },
  {
   "cell_type": "code",
   "execution_count": 26,
   "metadata": {},
   "outputs": [
    {
     "data": {
      "text/html": [
       "<div>\n",
       "<style scoped>\n",
       "    .dataframe tbody tr th:only-of-type {\n",
       "        vertical-align: middle;\n",
       "    }\n",
       "\n",
       "    .dataframe tbody tr th {\n",
       "        vertical-align: top;\n",
       "    }\n",
       "\n",
       "    .dataframe thead th {\n",
       "        text-align: right;\n",
       "    }\n",
       "</style>\n",
       "<table border=\"1\" class=\"dataframe\">\n",
       "  <thead>\n",
       "    <tr style=\"text-align: right;\">\n",
       "      <th></th>\n",
       "      <th>store</th>\n",
       "      <th>Location</th>\n",
       "      <th>sales</th>\n",
       "      <th>rank_sales</th>\n",
       "    </tr>\n",
       "  </thead>\n",
       "  <tbody>\n",
       "    <tr>\n",
       "      <td>0</td>\n",
       "      <td>A</td>\n",
       "      <td>Mumbai</td>\n",
       "      <td>40000</td>\n",
       "      <td>1.0</td>\n",
       "    </tr>\n",
       "    <tr>\n",
       "      <td>1</td>\n",
       "      <td>B</td>\n",
       "      <td>pune</td>\n",
       "      <td>45000</td>\n",
       "      <td>2.0</td>\n",
       "    </tr>\n",
       "    <tr>\n",
       "      <td>2</td>\n",
       "      <td>C</td>\n",
       "      <td>hyderabad</td>\n",
       "      <td>50000</td>\n",
       "      <td>3.0</td>\n",
       "    </tr>\n",
       "    <tr>\n",
       "      <td>3</td>\n",
       "      <td>D</td>\n",
       "      <td>mumbai</td>\n",
       "      <td>90000</td>\n",
       "      <td>8.0</td>\n",
       "    </tr>\n",
       "    <tr>\n",
       "      <td>4</td>\n",
       "      <td>A</td>\n",
       "      <td>pune</td>\n",
       "      <td>89000</td>\n",
       "      <td>7.0</td>\n",
       "    </tr>\n",
       "    <tr>\n",
       "      <td>5</td>\n",
       "      <td>D</td>\n",
       "      <td>delhi</td>\n",
       "      <td>87000</td>\n",
       "      <td>6.0</td>\n",
       "    </tr>\n",
       "    <tr>\n",
       "      <td>6</td>\n",
       "      <td>A</td>\n",
       "      <td>hyderabad</td>\n",
       "      <td>85000</td>\n",
       "      <td>5.0</td>\n",
       "    </tr>\n",
       "    <tr>\n",
       "      <td>7</td>\n",
       "      <td>C</td>\n",
       "      <td>pune</td>\n",
       "      <td>78000</td>\n",
       "      <td>4.0</td>\n",
       "    </tr>\n",
       "  </tbody>\n",
       "</table>\n",
       "</div>"
      ],
      "text/plain": [
       "  store   Location  sales  rank_sales\n",
       "0     A     Mumbai  40000         1.0\n",
       "1     B       pune  45000         2.0\n",
       "2     C  hyderabad  50000         3.0\n",
       "3     D     mumbai  90000         8.0\n",
       "4     A       pune  89000         7.0\n",
       "5     D      delhi  87000         6.0\n",
       "6     A  hyderabad  85000         5.0\n",
       "7     C       pune  78000         4.0"
      ]
     },
     "execution_count": 26,
     "metadata": {},
     "output_type": "execute_result"
    }
   ],
   "source": [
    "df.sort_values(by='sales')\n",
    "df"
   ]
  },
  {
   "cell_type": "raw",
   "metadata": {},
   "source": [
    "You need to make a program that counts the number of vowels in a given text. The vowels are a, e, i, o, and u."
   ]
  },
  {
   "cell_type": "code",
   "execution_count": 1,
   "metadata": {},
   "outputs": [
    {
     "name": "stdout",
     "output_type": "stream",
     "text": [
      "enter the string:pojitha\n",
      "3\n"
     ]
    }
   ],
   "source": [
    "string=input(\"enter the string:\")\n",
    "count=0\n",
    "vowels=['a','e','i','o','u']\n",
    "for i in string:\n",
    "    if i in vowels:\n",
    "        count=count+1\n",
    "print(count)\n",
    "    "
   ]
  },
  {
   "cell_type": "raw",
   "metadata": {},
   "source": [
    "Manipulating Strings\n",
    "\n",
    "You are making a text editor and need to implement find/replace functionality. \n",
    "The code declares a text string. You need to take two string inputs, which represent the\n",
    "substring to find and what to replace it with in the text. Your program needs to output the \n",
    "number of replacements made, along with the new text.\n",
    "\n",
    "For example, for the given text \"I weigh 80 kilograms. He weighs 65 kilograms.\":"
   ]
  },
  {
   "cell_type": "code",
   "execution_count": 2,
   "metadata": {},
   "outputs": [
    {
     "name": "stdout",
     "output_type": "stream",
     "text": [
      "enter the string1roja is 36 kilograms\n",
      "enter the string2suni 30 kilograms\n",
      "0\n",
      "I weigh 80 kilograms. He weighs 65 kilograms.\n"
     ]
    }
   ],
   "source": [
    "text=\"I weigh 80 kilograms. He weighs 65 kilograms.\"\n",
    "sub1=input(\"enter the string1\")\n",
    "sub2=input(\"enter the string2\")\n",
    "\n",
    "print(text.count(sub1))\n",
    "print(text.replace(sub1, sub2))"
   ]
  },
  {
   "cell_type": "raw",
   "metadata": {},
   "source": [
    "Write a program that asks the user to enter size of the list, then do the following:\n",
    "\n",
    "(a) if size of the list is less than 4 then print a message to user \"Invalid size and enter a size more than 4\". The program will continue from begining.\n",
    "\n",
    "(b) After taking valid size , program should take list items from user and create user defined list.\n",
    "\n",
    "(c) Use the choice() function to print out random item from the list.\n",
    "\n",
    "(d) Use the sample() function to print out three random items from the list.\n",
    "(e) Use the shuffle() function to reorder the list and then print out the list.\n",
    "\n",
    "Choice(),shuffle(),sample() functions are defined under random library. You need to import random library to use it.\n",
    "Sample Input/Output: Enter number of elements in the list: 3\n",
    "\n",
    "Invalid size and enter a size more than 4\n",
    "\n",
    "Enter number of elements in the list: 5\n",
    "\n",
    "1\n",
    "\n",
    "2\n",
    "\n",
    "3\n",
    "\n",
    "4\n",
    "\n",
    "5\n",
    "\n",
    "Random item from the list: 1\n",
    "\n",
    "Three random items from the list: ['1', '4', '2']\n",
    "\n",
    "Shuffeled list: ['3', '4', '5', '1', '2']"
   ]
  },
  {
   "cell_type": "code",
   "execution_count": 1,
   "metadata": {},
   "outputs": [
    {
     "name": "stdout",
     "output_type": "stream",
     "text": [
      "Enter number of elements in the list:3\n",
      "Invalid size and enter a size more than 4\n",
      "enter number of elements in the list:5\n",
      "Random item from the list:\n",
      "1\n",
      "Three random items from the list:\n",
      "[2, 1, 5]\n",
      "Shuffeled list:\n",
      "None\n"
     ]
    }
   ],
   "source": [
    "import random\n",
    "from random import choice,shuffle,sample\n",
    "list1=[]\n",
    "num=int(input(\"Enter number of elements in the list:\"))\n",
    "if num<4:\n",
    "    print(\"Invalid size and enter a size more than 4\")\n",
    "ele=int(input(\"enter number of elements in the list:\"))\n",
    "for i in range(1,ele+1):\n",
    "    list1.append(i)\n",
    "print(\"Random item from the list:\")\n",
    "print(random.choice(list1))\n",
    "print(\"Three random items from the list:\")\n",
    "print(sample(list1,3))\n",
    "print(\"Shuffeled list:\")\n",
    "print(random.shuffle(list1))"
   ]
  },
  {
   "cell_type": "code",
   "execution_count": null,
   "metadata": {},
   "outputs": [],
   "source": [
    "n=int(input(\"enter:\"))\n",
    "if n&1==0:print(\"even\")"
   ]
  },
  {
   "cell_type": "code",
   "execution_count": null,
   "metadata": {},
   "outputs": [],
   "source": [
    "num=10\n",
    "for i in range(1,num/2):\n",
    "    if num%i==0:\n",
    "        print(i)"
   ]
  }
 ],
 "metadata": {
  "kernelspec": {
   "display_name": "Python 3",
   "language": "python",
   "name": "python3"
  },
  "language_info": {
   "codemirror_mode": {
    "name": "ipython",
    "version": 3
   },
   "file_extension": ".py",
   "mimetype": "text/x-python",
   "name": "python",
   "nbconvert_exporter": "python",
   "pygments_lexer": "ipython3",
   "version": "3.7.4"
  }
 },
 "nbformat": 4,
 "nbformat_minor": 2
}
